{
 "cells": [
  {
   "cell_type": "markdown",
   "metadata": {},
   "source": [
    "Notes on complexity\n",
    "  - n means 'number of elements'\n",
    "  - c means 'maximum number of columns for elements being sorted'\n",
    "    - eg. 999 has 3 columns in base-10. In base-2 this is a 16 bit number, so we would say it has 2 columns if we are considering 1 byte at a time, or 16 columns if we are considering 1 bit at a time.\n",
    "  - k means 'number of bits per column'\n",
    "    - eg. in base-10 every column has 1 bit, but in base-2, char has 8 bits, uint_16 has 16 bits, etc..\n",
    "\n",
    "  - Counting Sort: O(n+ck)\n",
    "  - Radix Sort: O(c(n+k))\n",
    "  - Merge Sort: O(n*log_2(n))\n",
    "\n",
    "    These O complexities are nice for getting a feel for the performance of an algorithm, but they don't tell the whole story.\n",
    "\n",
    "    Radix sort is basically the same thing as counting sort.\n",
    "    In both algorithms, you count the number of times that each value appears, and then you order the items based on the count.\n",
    "    The problem with counting sort for some datasets is the number of discrete values that could appear in the dataset.\n",
    "    For example, consider a list of words where each word has 10 characters. The maximum number of discrete values is 26^10. That's... hmm. A lot.\n",
    "    However, if you line the words up - 1 word per row - and then sort each column, you're dealing with, at maximum, 26 discrete values per column. That's managable. Thats radix.\n",
    "\n",
    "    Now, lets assume the human architecture.\n",
    "    How long does it take you to remember wether j or k comes first in the alphabet?\n",
    "    Then, how long does it take you to write it down, once you remember it?\n",
    "    How much graph paper do you need to perform the task, and how long will it take you to retrieve the graph paper?\n",
    "    Do you know how much graph paper you will need when you start, or will you need to keep fetching more as you go?\n",
    "\n",
    "    In rsort_lsb_v1 I have opted to use a lot of memory on the stack to avoid repeating tasks. Is this faster than other methods of performing radix? I don't know until I test it against other methods.\n",
    "    Another method, which seems to be widely accepted, is to itterate through each column twice: the first time you count, and the second time you move the items (or pointers to the items). This strategy uses several times less memory than rsort_lsb_v1, but by my estimation, it takes more time to complete.\n",
    "    By the way, using several times more memory is fine for plenty of applications. For sorting large word lists (i.e. for search engines), we're talking about a few megabytes per thread.\n",
    "    Another way to use less memory is to allocate the memory as-needed on the heap, but allocating the memory takes time, and then accessing the memory on the heap takes more time (and a less predictable amount of time) compared to if it were on the stack.\n",
    "    \n",
    "    So, eventually, I think I will write all three methods (and perhaps more) and compare them all.\n",
    "    The best method gets multithreaded - that's the real power of radix sort. It can definately be multithreaded efficiently. All you have to do is split each column up into sub-columns, then schedule the threads to do work on the subcolumns. Synchronizing counts needs a mutex, then writing to memory can be done in parallel.\n",
    "\n",
    "\n",
    "Additional notes:\n",
    "  - The MSB variant of radix sort would be fantastic for text-based searches. Think about it.\n",
    "    - edit: well, I thought about it a little bit more. Doing rsort in the true forward configuration is next to impossible for any word size over 5 (26^8 = hmm. that's a lot.)\n",
    "    - So what do we do instead for single-character additions to a word? A binary comparison across the column. Preferably, multithreaded. This basically looks the same as performing a column of radix, except (depending on the application) we discard all the values that don't match. Well, that isn't a sort anymore, is it? That's a search.\n",
    "\n",
    "  - Why isn't arrmove in the c standard library? Haha.\n",
    "\n",
    "  - bsearch is fantastic, but only if you have a sorted array.\n",
    "    - edit: well, see 'additional note #1.' Depending on the application, you might just roll your search requirements directly into radix and do it all in one function call.\n",
    "    - note to self: this functionality could be acheived using essentially the same rsort functions with a more robust tokenizer function."
   ]
  },
  {
   "cell_type": "markdown",
   "metadata": {},
   "source": [
    "If we take the O complexities at face-value, we see the following characteristics when considering text-based datasets:"
   ]
  },
  {
   "cell_type": "code",
   "execution_count": 3,
   "metadata": {},
   "outputs": [
    {
     "name": "stdout",
     "output_type": "stream",
     "text": [
      "When there are 1 column(s) in the dataset, it's a good idea to use radix sort instead of merge sort if there are more than 6 rows in the dataset.\n",
      "When there are 2 column(s) in the dataset, it's a good idea to use radix sort instead of merge sort if there are more than 11 rows in the dataset.\n",
      "When there are 3 column(s) in the dataset, it's a good idea to use radix sort instead of merge sort if there are more than 20 rows in the dataset.\n",
      "When there are 4 column(s) in the dataset, it's a good idea to use radix sort instead of merge sort if there are more than 32 rows in the dataset.\n",
      "When there are 5 column(s) in the dataset, it's a good idea to use radix sort instead of merge sort if there are more than 54 rows in the dataset.\n",
      "When there are 6 column(s) in the dataset, it's a good idea to use radix sort instead of merge sort if there are more than 92 rows in the dataset.\n",
      "When there are 7 column(s) in the dataset, it's a good idea to use radix sort instead of merge sort if there are more than 163 rows in the dataset.\n",
      "When there are 8 column(s) in the dataset, it's a good idea to use radix sort instead of merge sort if there are more than 298 rows in the dataset.\n",
      "When there are 9 column(s) in the dataset, it's a good idea to use radix sort instead of merge sort if there are more than 560 rows in the dataset.\n",
      "When there are 10 column(s) in the dataset, it's a good idea to use radix sort instead of merge sort if there are more than 1079 rows in the dataset.\n",
      "When there are 11 column(s) in the dataset, it's a good idea to use radix sort instead of merge sort if there are more than 2109 rows in the dataset.\n",
      "When there are 12 column(s) in the dataset, it's a good idea to use radix sort instead of merge sort if there are more than 4163 rows in the dataset.\n",
      "When there are 13 column(s) in the dataset, it's a good idea to use radix sort instead of merge sort if there are more than 8264 rows in the dataset.\n",
      "When there are 14 column(s) in the dataset, it's a good idea to use radix sort instead of merge sort if there are more than 16462 rows in the dataset.\n",
      "When there are 15 column(s) in the dataset, it's a good idea to use radix sort instead of merge sort if there are more than 32852 rows in the dataset.\n",
      "When there are 16 column(s) in the dataset, it's a good idea to use radix sort instead of merge sort if there are more than 65625 rows in the dataset.\n",
      "When there are 17 column(s) in the dataset, it's a good idea to use radix sort instead of merge sort if there are more than 131167 rows in the dataset.\n",
      "When there are 18 column(s) in the dataset, it's a good idea to use radix sort instead of merge sort if there are more than 262244 rows in the dataset.\n",
      "When there are 19 column(s) in the dataset, it's a good idea to use radix sort instead of merge sort if there are more than 524394 rows in the dataset.\n",
      "When there are 20 column(s) in the dataset, it's a good idea to use radix sort instead of merge sort if there are more than 1048687 rows in the dataset.\n",
      "When there are 21 column(s) in the dataset, it's a good idea to use radix sort instead of merge sort if there are more than 2097269 rows in the dataset.\n",
      "When there are 22 column(s) in the dataset, it's a good idea to use radix sort instead of merge sort if there are more than 4194426 rows in the dataset.\n",
      "When there are 23 column(s) in the dataset, it's a good idea to use radix sort instead of merge sort if there are more than 8388736 rows in the dataset.\n",
      "When there are 24 column(s) in the dataset, it's a good idea to use radix sort instead of merge sort if there are more than 16777350 rows in the dataset.\n",
      "When there are 25 column(s) in the dataset, it's a good idea to use radix sort instead of merge sort if there are more than 33554571 rows in the dataset.\n",
      "When there are 26 column(s) in the dataset, it's a good idea to use radix sort instead of merge sort if there are more than 67109009 rows in the dataset.\n",
      "When there are 27 column(s) in the dataset, it's a good idea to use radix sort instead of merge sort if there are more than 134217878 rows in the dataset.\n",
      "When there are 28 column(s) in the dataset, it's a good idea to use radix sort instead of merge sort if there are more than 268435612 rows in the dataset.\n",
      "When there are 29 column(s) in the dataset, it's a good idea to use radix sort instead of merge sort if there are more than 536871073 rows in the dataset.\n",
      "When there are 30 column(s) in the dataset, it's a good idea to use radix sort instead of merge sort if there are more than 1073741991 rows in the dataset.\n",
      "When there are 31 column(s) in the dataset, it's a good idea to use radix sort instead of merge sort if there are more than 2147483820 rows in the dataset.\n",
      "When there are 32 column(s) in the dataset, it's a good idea to use radix sort instead of merge sort if there are more than 4294967474 rows in the dataset.\n",
      "When there are 33 column(s) in the dataset, it's a good idea to use radix sort instead of merge sort if there are more than 8589934775 rows in the dataset.\n",
      "When there are 34 column(s) in the dataset, it's a good idea to use radix sort instead of merge sort if there are more than 17179869373 rows in the dataset.\n",
      "When there are 35 column(s) in the dataset, it's a good idea to use radix sort instead of merge sort if there are more than 34359738563 rows in the dataset.\n",
      "When there are 36 column(s) in the dataset, it's a good idea to use radix sort instead of merge sort if there are more than 68719476936 rows in the dataset.\n",
      "When there are 37 column(s) in the dataset, it's a good idea to use radix sort instead of merge sort if there are more than 137438953678 rows in the dataset.\n",
      "When there are 38 column(s) in the dataset, it's a good idea to use radix sort instead of merge sort if there are more than 274877907155 rows in the dataset.\n",
      "When there are 39 column(s) in the dataset, it's a good idea to use radix sort instead of merge sort if there are more than 549755814105 rows in the dataset.\n",
      "When there are 40 column(s) in the dataset, it's a good idea to use radix sort instead of merge sort if there are more than 1099511627998 rows in the dataset.\n",
      "When there are 41 column(s) in the dataset, it's a good idea to use radix sort instead of merge sort if there are more than 2199023255780 rows in the dataset.\n",
      "When there are 42 column(s) in the dataset, it's a good idea to use radix sort instead of merge sort if there are more than 4398046511337 rows in the dataset.\n",
      "When there are 43 column(s) in the dataset, it's a good idea to use radix sort instead of merge sort if there are more than 8796093022447 rows in the dataset.\n",
      "When there are 44 column(s) in the dataset, it's a good idea to use radix sort instead of merge sort if there are more than 17592186044660 rows in the dataset.\n",
      "When there are 45 column(s) in the dataset, it's a good idea to use radix sort instead of merge sort if there are more than 35184372089082 rows in the dataset.\n",
      "When there are 46 column(s) in the dataset, it's a good idea to use radix sort instead of merge sort if there are more than 70368744177920 rows in the dataset.\n",
      "When there are 47 column(s) in the dataset, it's a good idea to use radix sort instead of merge sort if there are more than 140737488355589 rows in the dataset.\n",
      "When there are 48 column(s) in the dataset, it's a good idea to use radix sort instead of merge sort if there are more than 281474976710923 rows in the dataset.\n",
      "When there are 49 column(s) in the dataset, it's a good idea to use radix sort instead of merge sort if there are more than 562949953421584 rows in the dataset.\n"
     ]
    }
   ],
   "source": [
    "import sympy as sp\n",
    "from math import ceil\n",
    "\n",
    "n = sp.symbols('n')\n",
    "\n",
    "merge_sort = n * sp.log(n, 2)\n",
    "\n",
    "for c in range(1, 50):\n",
    "    radix_sort = c * (n + 8)\n",
    "    eqn2 = sp.Eq(merge_sort, radix_sort)\n",
    "    sol2 = sp.solve(eqn2, n)\n",
    "    for solution in sol2:\n",
    "        print(f\"When there are {c} column(s) in the dataset, it's a good idea to use radix sort instead of merge sort if there are more than {ceil(solution.evalf())} rows in the dataset.\")\n",
    "\n"
   ]
  },
  {
   "cell_type": "markdown",
   "metadata": {},
   "source": [
    "O complexity doesn't tell the whole story. Theres a lot more going on under the hood with these algorithms.\n",
    "\n",
    "However, this output is an indicator that radix is a top-contender sorting algorithm for real-time text-based searches.\n",
    "\n",
    "Often, the input comes in 1 character (1 column) at a time.\n",
    "\n",
    "You want to be able to sort (resort) the dataset(s), then search them, in a few microseconds each time that happens."
   ]
  }
 ],
 "metadata": {
  "kernelspec": {
   "display_name": "Python 3",
   "language": "python",
   "name": "python3"
  },
  "language_info": {
   "codemirror_mode": {
    "name": "ipython",
    "version": 3
   },
   "file_extension": ".py",
   "mimetype": "text/x-python",
   "name": "python",
   "nbconvert_exporter": "python",
   "pygments_lexer": "ipython3",
   "version": "3.9.21"
  }
 },
 "nbformat": 4,
 "nbformat_minor": 2
}
